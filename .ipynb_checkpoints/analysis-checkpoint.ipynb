{
 "cells": [
  {
   "cell_type": "code",
   "execution_count": null,
   "id": "ec64e294",
   "metadata": {},
   "outputs": [],
   "source": [
    "# IMPORT REQUIRED \n",
    "import numpy as np\n",
    "import pandas as pd\n",
    "from sklearn.linear_model import LinearRegression"
   ]
  },
  {
   "cell_type": "code",
   "execution_count": null,
   "id": "36cc03fa",
   "metadata": {},
   "outputs": [],
   "source": [
    "# CONNECT THE DATASET\n",
    "dataset = pd.read_csv('data/phishing.csv')"
   ]
  },
  {
   "cell_type": "code",
   "execution_count": null,
   "id": "d6a16a56",
   "metadata": {},
   "outputs": [],
   "source": [
    "dataset.head()"
   ]
  },
  {
   "cell_type": "code",
   "execution_count": null,
   "id": "eccf6e96",
   "metadata": {},
   "outputs": [],
   "source": [
    "dataset.info()"
   ]
  },
  {
   "cell_type": "code",
   "execution_count": null,
   "id": "6aa07ce1",
   "metadata": {},
   "outputs": [],
   "source": [
    "dataset.describe"
   ]
  },
  {
   "cell_type": "code",
   "execution_count": null,
   "id": "5b1ee250",
   "metadata": {},
   "outputs": [],
   "source": []
  }
 ],
 "metadata": {
  "kernelspec": {
   "display_name": "Python 3 (ipykernel)",
   "language": "python",
   "name": "python3"
  },
  "language_info": {
   "codemirror_mode": {
    "name": "ipython",
    "version": 3
   },
   "file_extension": ".py",
   "mimetype": "text/x-python",
   "name": "python",
   "nbconvert_exporter": "python",
   "pygments_lexer": "ipython3",
   "version": "3.10.1"
  }
 },
 "nbformat": 4,
 "nbformat_minor": 5
}
